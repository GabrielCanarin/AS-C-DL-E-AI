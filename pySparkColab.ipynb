{
  "nbformat": 4,
  "nbformat_minor": 0,
  "metadata": {
    "colab": {
      "provenance": []
    },
    "kernelspec": {
      "name": "python3",
      "display_name": "Python 3"
    },
    "language_info": {
      "name": "python"
    }
  },
  "cells": [
    {
      "cell_type": "code",
      "execution_count": 7,
      "metadata": {
        "id": "SBro36h-kXyk"
      },
      "outputs": [],
      "source": [
        "import pandas as pd\n"
      ]
    },
    {
      "cell_type": "code",
      "source": [
        "from pyspark.sql import SparkSession"
      ],
      "metadata": {
        "id": "Zq0eUkdLZxWO"
      },
      "execution_count": 8,
      "outputs": []
    },
    {
      "cell_type": "code",
      "source": [
        "!pip install pyspark"
      ],
      "metadata": {
        "id": "d8WO6f5XZVSr"
      },
      "execution_count": null,
      "outputs": []
    },
    {
      "cell_type": "code",
      "source": [
        "!pip install jupyterlab"
      ],
      "metadata": {
        "id": "Lvdcbd6iZ6LY"
      },
      "execution_count": null,
      "outputs": []
    },
    {
      "cell_type": "code",
      "source": [
        "!pip install delta-spark"
      ],
      "metadata": {
        "id": "Rgkt4qtTZ7hc"
      },
      "execution_count": null,
      "outputs": []
    },
    {
      "cell_type": "code",
      "source": [
        "!pip install wget"
      ],
      "metadata": {
        "id": "D9w33NRnZ8hm"
      },
      "execution_count": null,
      "outputs": []
    },
    {
      "cell_type": "code",
      "source": [
        "!pip install wget\n",
        "!wget https://repo1.maven.org/maven2/org/apache/iceberg/iceberg-spark3-runtime/0.12.0/iceberg-spark3-runtime-0.12.0.jar\n",
        "!mv iceberg-spark3-runtime-0.12.0.jar /usr/local/lib/"
      ],
      "metadata": {
        "id": "dSHz2hQoZ58X"
      },
      "execution_count": null,
      "outputs": []
    },
    {
      "cell_type": "code",
      "source": [
        "#link do dataset https://www.kaggle.com/datasets/franckepeixoto/tabela-fipe?rvi=1"
      ],
      "metadata": {
        "id": "euWXqVwJYKV9"
      },
      "execution_count": null,
      "outputs": []
    },
    {
      "cell_type": "code",
      "source": [
        "caminho_arquivo = 'FipePrecos.csv'\n",
        "dataset = pd.read_csv(caminho_arquivo)"
      ],
      "metadata": {
        "id": "7GnY0m4TmKir"
      },
      "execution_count": 9,
      "outputs": []
    },
    {
      "cell_type": "code",
      "source": [
        "print(dataset)\n"
      ],
      "metadata": {
        "id": "ed_WLmdlmkme",
        "colab": {
          "base_uri": "https://localhost:8080/"
        },
        "outputId": "ce4e6316-26d2-4d93-95bb-cb8e84084aee"
      },
      "execution_count": 10,
      "outputs": [
        {
          "output_type": "stream",
          "name": "stdout",
          "text": [
            "        Unnamed: 0 codigoFipe  marca                         modelo  \\\n",
            "0                0   038003-2  Acura                 Integra GS 1.8   \n",
            "1                1   038001-6  Acura                        NSX 3.0   \n",
            "2                2   038003-2  Acura                 Integra GS 1.8   \n",
            "3                3   038002-4  Acura                 Legend 3.2/3.5   \n",
            "4                4   038002-4  Acura                 Legend 3.2/3.5   \n",
            "...            ...        ...    ...                            ...   \n",
            "466015      544147   061001-1   Walk  Buggy  Walk Sport 1.6 8V 58cv   \n",
            "466016      544148   061001-1   Walk  Buggy  Walk Sport 1.6 8V 58cv   \n",
            "466017      544149   061001-1   Walk  Buggy  Walk Sport 1.6 8V 58cv   \n",
            "466018      544150   061001-1   Walk  Buggy  Walk Sport 1.6 8V 58cv   \n",
            "466019      544151   061001-1   Walk  Buggy  Walk Sport 1.6 8V 58cv   \n",
            "\n",
            "        anoModelo  mesReferencia  anoReferencia    valor  \n",
            "0            1992             11           2016  13041.0  \n",
            "1            1995              3           2013  52339.0  \n",
            "2            1992              3           2018  12423.0  \n",
            "3            1998              5           2016  31067.0  \n",
            "4            1998              2           2019  26381.0  \n",
            "...           ...            ...            ...      ...  \n",
            "466015       2011              2           2015  24811.0  \n",
            "466016       2022              6           2006  31503.0  \n",
            "466017       2011              8           2016  23582.0  \n",
            "466018       2022              7           2007  31990.0  \n",
            "466019       2022              4           2009  34425.0  \n",
            "\n",
            "[466020 rows x 8 columns]\n"
          ]
        }
      ]
    },
    {
      "cell_type": "code",
      "source": [
        "# Inicializar uma sessão Spark\n",
        "spark = SparkSession.builder \\\n",
        "    .appName(\"Exemplo Spark\") \\\n",
        "    .getOrCreate()\n",
        "\n",
        "# Testar o ambiente Spark\n",
        "#df = spark.createDataFrame([(1, 'A'), (2, 'B'), (3, 'C')], ['ID', 'Letra'])\n",
        "df = spark.read.csv(caminho_arquivo, header=True, inferSchema=True)\n",
        "df.show()"
      ],
      "metadata": {
        "id": "bMkpDrcUZNyD",
        "colab": {
          "base_uri": "https://localhost:8080/"
        },
        "outputId": "164002f8-4f29-4040-a258-9d22ddc1ce60"
      },
      "execution_count": 11,
      "outputs": [
        {
          "output_type": "stream",
          "name": "stdout",
          "text": [
            "+---+----------+-----+--------------+---------+-------------+-------------+-------+\n",
            "|_c0|codigoFipe|marca|        modelo|anoModelo|mesReferencia|anoReferencia|  valor|\n",
            "+---+----------+-----+--------------+---------+-------------+-------------+-------+\n",
            "|  0|  038003-2|Acura|Integra GS 1.8|     1992|           11|         2016|13041.0|\n",
            "|  1|  038001-6|Acura|       NSX 3.0|     1995|            3|         2013|52339.0|\n",
            "|  2|  038003-2|Acura|Integra GS 1.8|     1992|            3|         2018|12423.0|\n",
            "|  3|  038002-4|Acura|Legend 3.2/3.5|     1998|            5|         2016|31067.0|\n",
            "|  4|  038002-4|Acura|Legend 3.2/3.5|     1998|            2|         2019|26381.0|\n",
            "|  5|  038002-4|Acura|Legend 3.2/3.5|     1998|            9|         2015|29124.0|\n",
            "|  6|  038001-6|Acura|       NSX 3.0|     1995|           10|         2018|43081.0|\n",
            "|  7|  038003-2|Acura|Integra GS 1.8|     1992|           10|         2019|11433.0|\n",
            "|  8|  038002-4|Acura|Legend 3.2/3.5|     1998|            5|         2017|29258.0|\n",
            "|  9|  038001-6|Acura|       NSX 3.0|     1995|           10|         2013|51758.0|\n",
            "| 10|  038003-2|Acura|Integra GS 1.8|     1992|            9|         2016|13083.0|\n",
            "| 11|  038003-2|Acura|Integra GS 1.8|     1992|           12|         2021|11750.0|\n",
            "| 12|  038003-2|Acura|Integra GS 1.8|     1992|            6|         2022|11789.0|\n",
            "| 13|  038002-4|Acura|Legend 3.2/3.5|     1998|           11|         2011|36359.0|\n",
            "| 14|  038002-4|Acura|Legend 3.2/3.5|     1998|            8|         2020|25128.0|\n",
            "| 15|  038003-2|Acura|Integra GS 1.8|     1992|           11|         2021|11710.0|\n",
            "| 16|  038002-4|Acura|Legend 3.2/3.5|     1998|            7|         2011|36448.0|\n",
            "| 17|  038002-4|Acura|Legend 3.2/3.5|     1998|            6|         2016|30958.0|\n",
            "| 18|  038001-6|Acura|       NSX 3.0|     1995|           10|         2020|40607.0|\n",
            "| 19|  038002-4|Acura|Legend 3.2/3.5|     1998|            2|         2011|34171.0|\n",
            "+---+----------+-----+--------------+---------+-------------+-------------+-------+\n",
            "only showing top 20 rows\n",
            "\n"
          ]
        }
      ]
    },
    {
      "cell_type": "code",
      "source": [
        "!pip install db-sqlite3"
      ],
      "metadata": {
        "id": "6_rRyObLlNL9"
      },
      "execution_count": null,
      "outputs": []
    },
    {
      "cell_type": "code",
      "source": [
        "import sqlite3\n",
        "\n",
        "# Conectar ao banco de dados (se não existir, será criado)\n",
        "conn = sqlite3.connect('meu_banco.db')"
      ],
      "metadata": {
        "id": "KMm1_LlslPm-"
      },
      "execution_count": null,
      "outputs": []
    },
    {
      "cell_type": "code",
      "source": [
        "# Criar uma tabela\n",
        "import sqlite3\n",
        "\n",
        "# Conectar ao banco de dados (se não existir, será criado)\n",
        "conn = sqlite3.connect('meu_banco.db')\n",
        "\n",
        "# Criar tabelas\n",
        "conn.execute('''CREATE TABLE IF NOT EXISTS departamento (\n",
        "                id INTEGER PRIMARY KEY,\n",
        "                nome TEXT)''')\n",
        "\n",
        "conn.execute('''CREATE TABLE IF NOT EXISTS funcionario (\n",
        "                id INTEGER PRIMARY KEY,\n",
        "                nome TEXT,\n",
        "                departamento_id INTEGER,\n",
        "                FOREIGN KEY (departamento_id) REFERENCES departamento(id))''')\n",
        "\n",
        "# Inserir dados de exemplo\n",
        "conn.execute(\"INSERT INTO departamento (nome) VALUES ('RH')\")\n",
        "conn.execute(\"INSERT INTO departamento (nome) VALUES ('TI')\")\n",
        "\n",
        "conn.execute(\"INSERT INTO funcionario (nome, departamento_id) VALUES ('João', 1)\")\n",
        "conn.execute(\"INSERT INTO funcionario (nome, departamento_id) VALUES ('Maria', 2)\")\n",
        "\n",
        "# Salvar as mudanças\n",
        "conn.commit()\n",
        "\n"
      ],
      "metadata": {
        "id": "qCrNHgo1lS70"
      },
      "execution_count": null,
      "outputs": []
    },
    {
      "cell_type": "code",
      "source": [
        "# Consultar dados\n",
        "cursor = conn.execute(\"SELECT * FROM departamento\")\n",
        "print(\"Tabela 'departamento':\")\n",
        "for row in cursor:\n",
        "    print(row)\n",
        "\"\\n\"\n",
        "cursorFuncionario = conn.execute(\"SELECT * FROM funcionario\")\n",
        "print(\"Tabela 'funcionario':\")\n",
        "for row in cursorFuncionario:\n",
        "    print(row)\n",
        "\n",
        "\n",
        "# Deleta os registros das tableas\n",
        "#cursor.execute(\"DELETE FROM departamento\")\n",
        "# Fechar a conexão com o banco de dados\n",
        "#conn.close()"
      ],
      "metadata": {
        "colab": {
          "base_uri": "https://localhost:8080/"
        },
        "id": "ktwcGgYPmO_6",
        "outputId": "ae61e158-5564-4513-80ad-b9adec6155c7"
      },
      "execution_count": null,
      "outputs": [
        {
          "output_type": "stream",
          "name": "stdout",
          "text": [
            "Tabela 'departamento':\n",
            "Tabela 'funcionario':\n"
          ]
        },
        {
          "output_type": "execute_result",
          "data": {
            "text/plain": [
              "<sqlite3.Cursor at 0x7d247879f440>"
            ]
          },
          "metadata": {},
          "execution_count": 42
        }
      ]
    }
  ]
}